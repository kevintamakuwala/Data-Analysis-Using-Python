{
 "cells": [
  {
   "cell_type": "code",
   "execution_count": 3,
   "id": "4df98f36-cf9a-417a-908f-4c0ae971df8d",
   "metadata": {},
   "outputs": [
    {
     "data": {
      "text/plain": [
       "TextBlob(\"Please feel free to check out my Data Science blow where you will find a lot of  data visualization, exploratory data analysis, statistical analysis, machine learning, natural language processing, and computer vision tutorials and project.\")"
      ]
     },
     "execution_count": 3,
     "metadata": {},
     "output_type": "execute_result"
    }
   ],
   "source": [
    "from textblob import TextBlob,Word\n",
    "blob=TextBlob(\"\"\"Please feel free to check out my Data Science blog where you will find a lot of  data visualization, exploratory data analysis, statistical analysis, machine learning, natural language processing, and computer vision tutorials and project.\"\"\")\n",
    "blob.correct()"
   ]
  },
  {
   "cell_type": "code",
   "execution_count": 10,
   "id": "40198b42-15c6-4888-9883-989ceb61a0ff",
   "metadata": {},
   "outputs": [
    {
     "name": "stderr",
     "output_type": "stream",
     "text": [
      "[nltk_data] Downloading package punkt to\n",
      "[nltk_data]     C:\\Users\\kevin\\AppData\\Roaming\\nltk_data...\n",
      "[nltk_data]   Package punkt is already up-to-date!\n",
      "[nltk_data] Downloading package wordnet to\n",
      "[nltk_data]     C:\\Users\\kevin\\AppData\\Roaming\\nltk_data...\n",
      "[nltk_data]   Package wordnet is already up-to-date!\n",
      "[nltk_data] Downloading package brown to\n",
      "[nltk_data]     C:\\Users\\kevin\\AppData\\Roaming\\nltk_data...\n",
      "[nltk_data]   Package brown is already up-to-date!\n",
      "[nltk_data] Downloading package averaged_perceptron_tagger to\n",
      "[nltk_data]     C:\\Users\\kevin\\AppData\\Roaming\\nltk_data...\n",
      "[nltk_data]   Unzipping taggers\\averaged_perceptron_tagger.zip.\n"
     ]
    },
    {
     "data": {
      "text/plain": [
       "True"
      ]
     },
     "execution_count": 10,
     "metadata": {},
     "output_type": "execute_result"
    }
   ],
   "source": [
    "import nltk\n",
    "nltk.download(\"punkt\")\n",
    "nltk.download(\"wordnet\")\n",
    "nltk.download(\"brown\")\n",
    "nltk.download(\"averaged_perceptron_tagger\")"
   ]
  },
  {
   "cell_type": "code",
   "execution_count": 11,
   "id": "d0b888f0-2c54-4b19-a0dc-05c79b21dc44",
   "metadata": {},
   "outputs": [
    {
     "data": {
      "text/plain": [
       "[Sentence(\"Please feel free to check out my Data Science blog where you will find a lot of  data visualization, exploratory data analysis, statistical analysis, machine learning, natural language processing, and computer vision tutorials and project.\")]"
      ]
     },
     "execution_count": 11,
     "metadata": {},
     "output_type": "execute_result"
    }
   ],
   "source": [
    "blob.sentences"
   ]
  },
  {
   "cell_type": "code",
   "execution_count": 12,
   "id": "9c953bbc-1828-412b-9ac8-06e613bcb37f",
   "metadata": {},
   "outputs": [
    {
     "data": {
      "text/plain": [
       "[('Please', 'VB'),\n",
       " ('feel', 'VB'),\n",
       " ('free', 'JJ'),\n",
       " ('to', 'TO'),\n",
       " ('check', 'VB'),\n",
       " ('out', 'RP'),\n",
       " ('my', 'PRP$'),\n",
       " ('Data', 'NNS'),\n",
       " ('Science', 'NNP'),\n",
       " ('blog', 'NN'),\n",
       " ('where', 'WRB'),\n",
       " ('you', 'PRP'),\n",
       " ('will', 'MD'),\n",
       " ('find', 'VB'),\n",
       " ('a', 'DT'),\n",
       " ('lot', 'NN'),\n",
       " ('of', 'IN'),\n",
       " ('data', 'NNS'),\n",
       " ('visualization', 'NN'),\n",
       " ('exploratory', 'JJ'),\n",
       " ('data', 'NN'),\n",
       " ('analysis', 'NN'),\n",
       " ('statistical', 'JJ'),\n",
       " ('analysis', 'NN'),\n",
       " ('machine', 'NN'),\n",
       " ('learning', 'NN'),\n",
       " ('natural', 'JJ'),\n",
       " ('language', 'NN'),\n",
       " ('processing', 'NN'),\n",
       " ('and', 'CC'),\n",
       " ('computer', 'NN'),\n",
       " ('vision', 'NN'),\n",
       " ('tutorials', 'NNS'),\n",
       " ('and', 'CC'),\n",
       " ('project', 'NN')]"
      ]
     },
     "execution_count": 12,
     "metadata": {},
     "output_type": "execute_result"
    }
   ],
   "source": [
    "blob.tags\n"
   ]
  },
  {
   "cell_type": "code",
   "execution_count": 13,
   "id": "661830a2-7bb5-4f8a-8106-191dd8abf741",
   "metadata": {},
   "outputs": [
    {
     "name": "stdout",
     "output_type": "stream",
     "text": [
      "Sentiment(polarity=0.25, subjectivity=0.6000000000000001)\n"
     ]
    }
   ],
   "source": [
    "for i in blob.sentences:\n",
    "    print(i.sentiment)"
   ]
  },
  {
   "cell_type": "code",
   "execution_count": 14,
   "id": "989cb67e-1846-44cc-b772-52f07cf29a0c",
   "metadata": {},
   "outputs": [
    {
     "data": {
      "text/plain": [
       "defaultdict(int,\n",
       "            {'please': 1,\n",
       "             'feel': 1,\n",
       "             'free': 1,\n",
       "             'to': 1,\n",
       "             'check': 1,\n",
       "             'out': 1,\n",
       "             'my': 1,\n",
       "             'data': 3,\n",
       "             'science': 1,\n",
       "             'blog': 1,\n",
       "             'where': 1,\n",
       "             'you': 1,\n",
       "             'will': 1,\n",
       "             'find': 1,\n",
       "             'a': 1,\n",
       "             'lot': 1,\n",
       "             'of': 1,\n",
       "             'visualization': 1,\n",
       "             'exploratory': 1,\n",
       "             'analysis': 2,\n",
       "             'statistical': 1,\n",
       "             'machine': 1,\n",
       "             'learning': 1,\n",
       "             'natural': 1,\n",
       "             'language': 1,\n",
       "             'processing': 1,\n",
       "             'and': 2,\n",
       "             'computer': 1,\n",
       "             'vision': 1,\n",
       "             'tutorials': 1,\n",
       "             'project': 1})"
      ]
     },
     "execution_count": 14,
     "metadata": {},
     "output_type": "execute_result"
    }
   ],
   "source": [
    "blob.word_counts"
   ]
  },
  {
   "cell_type": "code",
   "execution_count": 15,
   "id": "97db9216-67b3-4ce1-adbb-3819fca78091",
   "metadata": {},
   "outputs": [
    {
     "data": {
      "text/plain": [
       "WordList(['Please', 'feel', 'free', 'to', 'check', 'out', 'my', 'Data', 'Science', 'blog', 'where', 'you', 'will', 'find', 'a', 'lot', 'of', 'data', 'visualization', 'exploratory', 'data', 'analysis', 'statistical', 'analysis', 'machine', 'learning', 'natural', 'language', 'processing', 'and', 'computer', 'vision', 'tutorials', 'and', 'project'])"
      ]
     },
     "execution_count": 15,
     "metadata": {},
     "output_type": "execute_result"
    }
   ],
   "source": [
    "blob.words"
   ]
  },
  {
   "cell_type": "code",
   "execution_count": 16,
   "id": "e52947ea-2a2d-4914-a29c-b55ba028d8d9",
   "metadata": {},
   "outputs": [
    {
     "data": {
      "text/plain": [
       "WordList(['please', 'data', 'science blog', 'data visualization', 'exploratory data analysis', 'statistical analysis', 'machine learning', 'natural language processing', 'computer vision tutorials'])"
      ]
     },
     "execution_count": 16,
     "metadata": {},
     "output_type": "execute_result"
    }
   ],
   "source": [
    "blob.noun_phrases"
   ]
  },
  {
   "cell_type": "code",
   "execution_count": 21,
   "id": "bc0c0504-8fba-4d6e-894e-25b7c3733eda",
   "metadata": {},
   "outputs": [
    {
     "data": {
      "text/plain": [
       "'buy'"
      ]
     },
     "execution_count": 21,
     "metadata": {},
     "output_type": "execute_result"
    }
   ],
   "source": [
    "Word(\"bought\").lemmatize('v')"
   ]
  },
  {
   "cell_type": "code",
   "execution_count": 37,
   "id": "d3b60bd4-cf29-4e45-b871-b39eeea95724",
   "metadata": {},
   "outputs": [
    {
     "data": {
      "text/plain": [
       "['the state or fact of existing', 'everything that exists anywhere']"
      ]
     },
     "execution_count": 37,
     "metadata": {},
     "output_type": "execute_result"
    }
   ],
   "source": [
    "Word(\"existence\").definitions"
   ]
  },
  {
   "cell_type": "code",
   "execution_count": 40,
   "id": "a1009c42-9670-46c6-ad25-4c73c61fcb88",
   "metadata": {},
   "outputs": [
    {
     "data": {
      "text/plain": [
       "[Synset('coerce.v.01'),\n",
       " Synset('impel.v.01'),\n",
       " Synset('push.v.01'),\n",
       " Synset('force.v.04'),\n",
       " Synset('wedge.v.02'),\n",
       " Synset('force.v.06'),\n",
       " Synset('pull.v.01'),\n",
       " Synset('force.v.08'),\n",
       " Synset('storm.v.02')]"
      ]
     },
     "execution_count": 40,
     "metadata": {},
     "output_type": "execute_result"
    }
   ],
   "source": [
    "from textblob.wordnet import ADJ,ADV,VERB,NOUN\n",
    "Word(\"force\").get_synsets(pos=VERB)"
   ]
  }
 ],
 "metadata": {
  "kernelspec": {
   "display_name": "Python 3 (ipykernel)",
   "language": "python",
   "name": "python3"
  },
  "language_info": {
   "codemirror_mode": {
    "name": "ipython",
    "version": 3
   },
   "file_extension": ".py",
   "mimetype": "text/x-python",
   "name": "python",
   "nbconvert_exporter": "python",
   "pygments_lexer": "ipython3",
   "version": "3.10.4"
  }
 },
 "nbformat": 4,
 "nbformat_minor": 5
}
