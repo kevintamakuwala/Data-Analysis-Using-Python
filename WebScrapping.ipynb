{
 "cells": [
  {
   "cell_type": "code",
   "execution_count": 18,
   "id": "711db5c1-d765-4460-9b43-a45552c24496",
   "metadata": {},
   "outputs": [],
   "source": [
    "import requests\n",
    "from bs4 import BeautifulSoup\n",
    "\n",
    "url='https://ddu.ac.in/Technology-Departments5.php'\n",
    "html=requests.get(url)\n",
    "\n",
    "soup = BeautifulSoup(html.content,'html.parser')\n",
    "\n",
    "faculties = soup.find_all('div','bodytextWhite fontOB text-center')\n",
    "positions = soup.find_all('div','bodytextWhiteSm2 text-center lineheight18') \n",
    "qualifications = soup.find_all('div','bodytextWhiteSm2 text-center lineheight18') \n",
    "\n",
    "\n",
    "for i in range(0,len(faculties)):\n",
    "    faculties[i]=faculties[i].text\n",
    "    positions[i]=positions[i].text\n",
    "    qualifications[i]=qualifications[i].text\n",
    "    \n",
    "import csv\n",
    "rows=zip(faculties,positions,qualifications)\n",
    "with open(\"ddu-scrapped-data.csv\",'w',encoding='utf-8',newline='') as file:\n",
    "    writer=csv.writer(file)\n",
    "    writer.writerow(['name','position','qualification'])\n",
    "    writer.writerows(rows)\n",
    "    # print(faculties[i].text,positions[i].text,qualifications[i].text)"
   ]
  }
 ],
 "metadata": {
  "kernelspec": {
   "display_name": "Python 3 (ipykernel)",
   "language": "python",
   "name": "python3"
  },
  "language_info": {
   "codemirror_mode": {
    "name": "ipython",
    "version": 3
   },
   "file_extension": ".py",
   "mimetype": "text/x-python",
   "name": "python",
   "nbconvert_exporter": "python",
   "pygments_lexer": "ipython3",
   "version": "3.10.4"
  }
 },
 "nbformat": 4,
 "nbformat_minor": 5
}
